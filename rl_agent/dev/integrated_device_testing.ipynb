{
 "cells": [
  {
   "cell_type": "code",
   "execution_count": 1,
   "id": "f938c4bc-21e7-4c41-91ba-1298c6e6ae12",
   "metadata": {},
   "outputs": [],
   "source": [
    "import serial\n",
    "import time\n",
    "import random\n",
    "import pandas as pd\n",
    "\n",
    "import plotly.express as px\n",
    "import plotly.io as pio\n",
    "\n",
    "pio.renderers.default = \"jupyterlab\""
   ]
  },
  {
   "cell_type": "code",
   "execution_count": 3,
   "id": "4dff4000-d540-4893-a785-11236d03159a",
   "metadata": {},
   "outputs": [],
   "source": [
    "# Request codes\n",
    "MOTOR_CONTROL = 1000\n",
    "STATE_REQUEST = 2000\n",
    "RESET_CODE = 6666\n",
    "\n",
    "# Response codes\n",
    "NOMINAL = 1111\n",
    "ERROR = 9999\n",
    "\n",
    "# Constants for communication\n",
    "END_CHAR = '>'\n",
    "MESSAGE_TERMINATOR = '\\n'\n",
    "DELIMITER = ','\n",
    "\n",
    "\n",
    "def read_serial_line(serial_device: serial.Serial, print_message=True):\n",
    "    \"\"\"\n",
    "       Reads data from Serial (from Arduino) with a safe check for end char\n",
    "\n",
    "       Args:\n",
    "           serial_device (serial.Serial): The Serial device\n",
    "       Returns:\n",
    "           (str): The output of the line, or None if invalid message\n",
    "    \"\"\"\n",
    "    data_line = serial_device.readline().decode().strip()\n",
    "    if END_CHAR in data_line:\n",
    "        data_list = data_line.replace(END_CHAR, '').split(DELIMITER)\n",
    "    else:\n",
    "        data_list = None\n",
    "    if print_message:\n",
    "        print('Reading message: ' + str(data_list))\n",
    "    return data_list\n",
    "\n",
    "\n",
    "def write_serial_line(serial_device: serial.Serial, code_array, write_timeout=3, print_message=True):\n",
    "    \"\"\"\n",
    "    Args:\n",
    "        serial_device (serial.Serial): The Serial device\n",
    "        code_array (list): The sequence of codes/values to send to Arduino\n",
    "\n",
    "    Returns:\n",
    "        (bool): True for successful write, False for timeout\n",
    "\n",
    "    \"\"\"\n",
    "    message = ','.join([str(x) for x in code_array]) + END_CHAR + MESSAGE_TERMINATOR\n",
    "\n",
    "    # Track write time or timeout\n",
    "    write_success = True\n",
    "    write_start = time.time()\n",
    "    serial_device.write(str(message).encode())\n",
    "\n",
    "    # Attempt to write message\n",
    "    if print_message:\n",
    "        print('Writing serial message: ' + str(code_array))\n",
    "    while (serial_device.out_waiting > 0) and (time.time() - write_start < write_timeout):\n",
    "        time.sleep(0.05)\n",
    "    if (time.time() - write_start > write_timeout) and (serial_device.out_waiting > 0):\n",
    "        write_success = False\n",
    "\n",
    "    # Reset buffer\n",
    "    serial_device.reset_output_buffer()\n",
    "\n",
    "    return write_success\n",
    "\n",
    "\n",
    "def initialize_serial(serial_port='/dev/cu.usbmodem14101', baud_rate=9600, timeout=2):\n",
    "    serial_device = serial.Serial(port=serial_port, baudrate=baud_rate, timeout=timeout)\n",
    "    serial_device.flush()\n",
    "    time.sleep(2)\n",
    "    return serial_device\n",
    "\n",
    "\n",
    "def map_message_to_dict(timestamp, input_message):\n",
    "    final_dict = {}\n",
    "    if input_message is not None:\n",
    "        final_dict = {\n",
    "            'timestamp': timestamp,\n",
    "            'state': input_message[0],\n",
    "            'arduino_duration': input_message[1],\n",
    "            'motor_1_position': input_message[2],\n",
    "            'motor_2_position': input_message[3],\n",
    "            'I_ivp_1': input_message[4],\n",
    "            'V_ivp_1': input_message[5],\n",
    "            'P_ivp_1': input_message[6]\n",
    "        }\n",
    "    return final_dict\n",
    "\n",
    "\n",
    "def scan_space(arduino):\n",
    "    # Run start\n",
    "    run_start = time.time()\n",
    "    data_dict_list = []\n",
    "    last_motor_interval = 0\n",
    "    last_measure_interval = -1\n",
    "    motor_frequency = 2\n",
    "    measure_frequency = 1\n",
    "    # Set timeouts\n",
    "    response_timeout = 3\n",
    "    reset_timeout = 5\n",
    "    abort = False\n",
    "    expecting_response = False\n",
    "    \n",
    "    # go horizontally 0 to 180 w panel at 135\n",
    "    # go horizontally 180 to 0 w panel at 90\n",
    "    # go horizontally 0 to 180 w/ panel at 45\n",
    "    # go horizontall and vertically 180 to 0 and 45 to 135\n",
    "    \n",
    "    range_list = [\n",
    "        [0, 180, 20, 135],\n",
    "        [180, 0, -20, 90],\n",
    "        [0, 180, 20, 45]\n",
    "    ]\n",
    "    \n",
    "    for range_thing in range_list:\n",
    "        for degree in range(range_thing[0], range_thing[1], range_thing[2]):\n",
    "            write_serial_line(arduino, [MOTOR_CONTROL, range_thing[3], degree], print_message=True)\n",
    "            wait_start = time.time()\n",
    "            while arduino.in_waiting <= 0 and time.time() - wait_start < response_timeout:\n",
    "                time.sleep(0.001)\n",
    "            # Case for successful response\n",
    "            if arduino.in_waiting > 0:\n",
    "                data_dict_list.append(map_message_to_dict(time.time(), read_serial_line(arduino, print_message=False)))\n",
    "                expecting_response = False\n",
    "            # If no response, send a reset request\n",
    "            else:\n",
    "                print('WARNING: Arduino unresponsive, requesting reset...')\n",
    "                write_serial_line(arduino, [RESET_CODE])\n",
    "                # Verify the reset\n",
    "                wait_start = time.time()\n",
    "                while arduino.in_waiting <= 0 and time.time() - wait_start < reset_timeout:\n",
    "                    time.sleep(0.005)\n",
    "                if arduino.in_waiting > 0:\n",
    "                    print('SUCCESS: Arduino reset successfully.')\n",
    "                    data_dict_list.append(map_message_to_dict(time.time(), read_serial_line(arduino, print_message=False)))\n",
    "                else:\n",
    "                    print('FATAL ERROR: Arduino unresponsive to reset.')\n",
    "                    abort = True\n",
    "            if abort:\n",
    "                break\n",
    "            time.sleep(0.5)\n",
    "    write_serial_line(arduino, [1000, 90, 90])\n",
    "\n",
    "    return pd.DataFrame(data_dict_list)\n",
    "\n",
    "\n",
    "def loop(arduino, runtime=12):\n",
    "    # Run start\n",
    "    run_start = time.time()\n",
    "    data_dict_list = []\n",
    "    last_motor_interval = 0\n",
    "    last_measure_interval = -1\n",
    "    motor_frequency = 2\n",
    "    measure_frequency = 1\n",
    "    # Set timeouts\n",
    "    response_timeout = 3\n",
    "    reset_timeout = 5\n",
    "    abort = False\n",
    "    expecting_response = False\n",
    "\n",
    "    # Check for new messages to log\n",
    "    while time.time() - run_start < runtime and not abort:\n",
    "        # if arduino.in_waiting > 0:\n",
    "        #    data_dict_list.append(map_message_to_dict(time.time(), read_serial_line(arduino, print_message=False)))\n",
    "\n",
    "        # Calculate intervals\n",
    "        motor_interval = round(time.time() - run_start)//motor_frequency\n",
    "        measure_interval = round(time.time() - run_start)//measure_frequency\n",
    "\n",
    "        # every N seconds adjust motor position randomly\n",
    "        if motor_interval != last_motor_interval:\n",
    "            motor_1_position = random.randint(0, 181)\n",
    "            motor_2_position = random.randint(0, 181)\n",
    "            write_serial_line(arduino, [MOTOR_CONTROL, motor_1_position, motor_2_position], print_message=False)\n",
    "            # print([1000, motor_1_position, motor_2_position])\n",
    "            last_motor_interval = motor_interval\n",
    "            expecting_response = True\n",
    "\n",
    "        # otherwise, request a measurement every N seconds\n",
    "        else:\n",
    "            if measure_interval != last_measure_interval:\n",
    "                write_serial_line(arduino, [STATE_REQUEST], print_message=False)\n",
    "                last_measure_interval = measure_interval\n",
    "                expecting_response = True\n",
    "\n",
    "        # Wait for response from arduino before proceeding\n",
    "        if expecting_response:\n",
    "            wait_start = time.time()\n",
    "            while arduino.in_waiting <= 0 and time.time() - wait_start < response_timeout:\n",
    "                time.sleep(0.001)\n",
    "            # Case for successful response\n",
    "            if arduino.in_waiting > 0:\n",
    "                data_dict_list.append(map_message_to_dict(time.time(), read_serial_line(arduino, print_message=False)))\n",
    "                expecting_response = False\n",
    "            # If no response, send a reset request\n",
    "            else:\n",
    "                print('WARNING: Arduino unresponsive, requesting reset...')\n",
    "                write_serial_line(arduino, [RESET_CODE])\n",
    "                # Verify the reset\n",
    "                wait_start = time.time()\n",
    "                while arduino.in_waiting <= 0 and time.time() - wait_start < reset_timeout:\n",
    "                    time.sleep(0.005)\n",
    "                if arduino.in_waiting > 0:\n",
    "                    print('SUCCESS: Arduino reset successfully.')\n",
    "                    data_dict_list.append(map_message_to_dict(time.time(), read_serial_line(arduino, print_message=False)))\n",
    "                else:\n",
    "                    print('FATAL ERROR: Arduino unresponsive to reset.')\n",
    "                    abort = True\n",
    "\n",
    "    if abort:\n",
    "        print('\\nABORTING TEST AND WRITING DATA')\n",
    "    # Reset at end\n",
    "    else:\n",
    "        write_serial_line(arduino, [RESET_CODE], print_message=False)\n",
    "\n",
    "    return pd.DataFrame(data_dict_list)"
   ]
  },
  {
   "cell_type": "code",
   "execution_count": 4,
   "id": "07994661-9e43-4372-b543-b2641c5cad29",
   "metadata": {},
   "outputs": [
    {
     "name": "stdout",
     "output_type": "stream",
     "text": [
      "\n",
      "ARDUINO CONTROL TESTING\n",
      "-------------------------\n",
      "\n",
      "Iniitalizing device...\n",
      "\t - SUCCESS: Device initialized.\n",
      "\n",
      "Beginning loop sequence...\n",
      "Writing serial message: [1000, 135, 0]\n",
      "Writing serial message: [1000, 135, 20]\n",
      "Writing serial message: [1000, 135, 40]\n",
      "Writing serial message: [1000, 135, 60]\n",
      "Writing serial message: [1000, 135, 80]\n",
      "Writing serial message: [1000, 135, 100]\n",
      "Writing serial message: [1000, 135, 120]\n",
      "Writing serial message: [1000, 135, 140]\n",
      "Writing serial message: [1000, 135, 160]\n",
      "Writing serial message: [1000, 90, 180]\n",
      "Writing serial message: [1000, 90, 160]\n",
      "Writing serial message: [1000, 90, 140]\n",
      "Writing serial message: [1000, 90, 120]\n",
      "Writing serial message: [1000, 90, 100]\n",
      "Writing serial message: [1000, 90, 80]\n",
      "Writing serial message: [1000, 90, 60]\n",
      "Writing serial message: [1000, 90, 40]\n",
      "Writing serial message: [1000, 90, 20]\n",
      "Writing serial message: [1000, 45, 0]\n",
      "Writing serial message: [1000, 45, 20]\n",
      "Writing serial message: [1000, 45, 40]\n",
      "Writing serial message: [1000, 45, 60]\n",
      "Writing serial message: [1000, 45, 80]\n",
      "Writing serial message: [1000, 45, 100]\n",
      "Writing serial message: [1000, 45, 120]\n",
      "Writing serial message: [1000, 45, 140]\n",
      "Writing serial message: [1000, 45, 160]\n",
      "Writing serial message: [1000, 90, 90]\n",
      "\t - Loop complete.\n",
      "\n",
      "Data broadcasted by Arduino:\n",
      "\n"
     ]
    }
   ],
   "source": [
    "if __name__ == '__main__':\n",
    "    print('\\nARDUINO CONTROL TESTING')\n",
    "    print('-------------------------')\n",
    "    # Initialize serial port\n",
    "    print('\\nIniitalizing device...')\n",
    "    serial_port = '/dev/cu.usbmodem14101'\n",
    "    baud_rate = 9600\n",
    "    timeout = 5\n",
    "    arduino = initialize_serial(serial_port=serial_port, baud_rate=baud_rate, timeout=timeout)\n",
    "    print('\\t - SUCCESS: Device initialized.')\n",
    "\n",
    "    # Run a loop where motor position incremented every 5 seconds, print out message\n",
    "    print('\\nBeginning loop sequence...')\n",
    "    data = scan_space(arduino)\n",
    "    print('\\t - Loop complete.')\n",
    "\n",
    "    # Add relative time to returned data and print out\n",
    "    data['t_relative'] = data['timestamp'] - data['timestamp'].iloc[0]\n",
    "    print('\\nData broadcasted by Arduino:\\n')"
   ]
  },
  {
   "cell_type": "code",
   "execution_count": 5,
   "id": "adaaf1f0-f065-4360-964c-e6a936e84e0c",
   "metadata": {},
   "outputs": [],
   "source": [
    "def demo_movement(arduino):\n",
    "    time.sleep(2)\n",
    "    write_serial_line(arduino, [1000, 90, 90])\n",
    "    time.sleep(2)\n",
    "    write_serial_line(arduino, [1000, 0, 135])\n",
    "    time.sleep(2)\n",
    "    write_serial_line(arduino, [1000, 45, 180])\n",
    "    time.sleep(2)\n",
    "    write_serial_line(arduino, [1000, 90, 30])\n",
    "    time.sleep(2)\n",
    "    write_serial_line(arduino, [1000, 135, 60])\n",
    "    time.sleep(2)\n",
    "    write_serial_line(arduino, [1000, 0, 30])\n",
    "    time.sleep(2)\n",
    "    write_serial_line(arduino, [1000, 60, 120])\n",
    "    time.sleep(2)\n",
    "    write_serial_line(arduino, [1000, 120, 45])\n",
    "    time.sleep(2)\n",
    "    write_serial_line(arduino, [1000, 90, 90])"
   ]
  },
  {
   "cell_type": "code",
   "execution_count": null,
   "id": "a8b51c92-e2cb-4e77-9b9c-eb84ca199d46",
   "metadata": {},
   "outputs": [],
   "source": [
    "demo_movement(arduino)"
   ]
  },
  {
   "cell_type": "code",
   "execution_count": null,
   "id": "9af1b648-e1a8-4d7d-84ca-56d3c3b878eb",
   "metadata": {},
   "outputs": [],
   "source": [
    "write_serial_line(arduino, [1000, 90, 90])"
   ]
  },
  {
   "cell_type": "code",
   "execution_count": null,
   "id": "923593f3-2e4d-4a41-b26d-03347e251388",
   "metadata": {},
   "outputs": [],
   "source": [
    "print(data)"
   ]
  },
  {
   "cell_type": "code",
   "execution_count": 6,
   "id": "805709cd-25eb-43cc-8257-8cac75236970",
   "metadata": {},
   "outputs": [],
   "source": [
    "data = data[data.columns].astype(float)"
   ]
  },
  {
   "cell_type": "code",
   "execution_count": 7,
   "id": "b582358d-aad3-4d56-87db-e2bfdbda1514",
   "metadata": {},
   "outputs": [
    {
     "data": {
      "application/vnd.plotly.v1+json": {
       "config": {
        "plotlyServerURL": "https://plot.ly"
       },
       "data": [
        {
         "hovertemplate": "timestamp=%{x}<br>V_ivp_1=%{y}<extra></extra>",
         "legendgroup": "",
         "marker": {
          "color": "#636efa",
          "symbol": "circle"
         },
         "mode": "markers",
         "name": "",
         "orientation": "v",
         "showlegend": false,
         "type": "scatter",
         "x": [
          1634262079.3059351,
          1634262080.312235,
          1634262081.323906,
          1634262082.336083,
          1634262083.3475552,
          1634262084.359189,
          1634262085.374895,
          1634262086.3913631,
          1634262087.407425,
          1634262088.8740401,
          1634262089.880476,
          1634262090.896993,
          1634262091.9086149,
          1634262092.92429,
          1634262093.936491,
          1634262094.9441102,
          1634262095.951256,
          1634262096.9637902,
          1634262098.4253728,
          1634262099.4379032,
          1634262100.4487228,
          1634262101.456893,
          1634262102.4641511,
          1634262103.4761322,
          1634262104.486943,
          1634262105.499678,
          1634262106.514852
         ],
         "xaxis": "x",
         "y": [
          1.841,
          1.849,
          1.849,
          1.83,
          1.826,
          1.819,
          1.805,
          1.794,
          1.784,
          1.834,
          1.856,
          1.825,
          1.825,
          1.846,
          1.83,
          1.855,
          1.844,
          1.855,
          1.757,
          1.737,
          1.753,
          1.791,
          1.799,
          1.835,
          1.849,
          1.86,
          1.856
         ],
         "yaxis": "y"
        }
       ],
       "layout": {
        "autosize": true,
        "legend": {
         "tracegroupgap": 0
        },
        "margin": {
         "t": 60
        },
        "template": {
         "data": {
          "bar": [
           {
            "error_x": {
             "color": "#2a3f5f"
            },
            "error_y": {
             "color": "#2a3f5f"
            },
            "marker": {
             "line": {
              "color": "#E5ECF6",
              "width": 0.5
             },
             "pattern": {
              "fillmode": "overlay",
              "size": 10,
              "solidity": 0.2
             }
            },
            "type": "bar"
           }
          ],
          "barpolar": [
           {
            "marker": {
             "line": {
              "color": "#E5ECF6",
              "width": 0.5
             },
             "pattern": {
              "fillmode": "overlay",
              "size": 10,
              "solidity": 0.2
             }
            },
            "type": "barpolar"
           }
          ],
          "carpet": [
           {
            "aaxis": {
             "endlinecolor": "#2a3f5f",
             "gridcolor": "white",
             "linecolor": "white",
             "minorgridcolor": "white",
             "startlinecolor": "#2a3f5f"
            },
            "baxis": {
             "endlinecolor": "#2a3f5f",
             "gridcolor": "white",
             "linecolor": "white",
             "minorgridcolor": "white",
             "startlinecolor": "#2a3f5f"
            },
            "type": "carpet"
           }
          ],
          "choropleth": [
           {
            "colorbar": {
             "outlinewidth": 0,
             "ticks": ""
            },
            "type": "choropleth"
           }
          ],
          "contour": [
           {
            "colorbar": {
             "outlinewidth": 0,
             "ticks": ""
            },
            "colorscale": [
             [
              0,
              "#0d0887"
             ],
             [
              0.1111111111111111,
              "#46039f"
             ],
             [
              0.2222222222222222,
              "#7201a8"
             ],
             [
              0.3333333333333333,
              "#9c179e"
             ],
             [
              0.4444444444444444,
              "#bd3786"
             ],
             [
              0.5555555555555556,
              "#d8576b"
             ],
             [
              0.6666666666666666,
              "#ed7953"
             ],
             [
              0.7777777777777778,
              "#fb9f3a"
             ],
             [
              0.8888888888888888,
              "#fdca26"
             ],
             [
              1,
              "#f0f921"
             ]
            ],
            "type": "contour"
           }
          ],
          "contourcarpet": [
           {
            "colorbar": {
             "outlinewidth": 0,
             "ticks": ""
            },
            "type": "contourcarpet"
           }
          ],
          "heatmap": [
           {
            "colorbar": {
             "outlinewidth": 0,
             "ticks": ""
            },
            "colorscale": [
             [
              0,
              "#0d0887"
             ],
             [
              0.1111111111111111,
              "#46039f"
             ],
             [
              0.2222222222222222,
              "#7201a8"
             ],
             [
              0.3333333333333333,
              "#9c179e"
             ],
             [
              0.4444444444444444,
              "#bd3786"
             ],
             [
              0.5555555555555556,
              "#d8576b"
             ],
             [
              0.6666666666666666,
              "#ed7953"
             ],
             [
              0.7777777777777778,
              "#fb9f3a"
             ],
             [
              0.8888888888888888,
              "#fdca26"
             ],
             [
              1,
              "#f0f921"
             ]
            ],
            "type": "heatmap"
           }
          ],
          "heatmapgl": [
           {
            "colorbar": {
             "outlinewidth": 0,
             "ticks": ""
            },
            "colorscale": [
             [
              0,
              "#0d0887"
             ],
             [
              0.1111111111111111,
              "#46039f"
             ],
             [
              0.2222222222222222,
              "#7201a8"
             ],
             [
              0.3333333333333333,
              "#9c179e"
             ],
             [
              0.4444444444444444,
              "#bd3786"
             ],
             [
              0.5555555555555556,
              "#d8576b"
             ],
             [
              0.6666666666666666,
              "#ed7953"
             ],
             [
              0.7777777777777778,
              "#fb9f3a"
             ],
             [
              0.8888888888888888,
              "#fdca26"
             ],
             [
              1,
              "#f0f921"
             ]
            ],
            "type": "heatmapgl"
           }
          ],
          "histogram": [
           {
            "marker": {
             "pattern": {
              "fillmode": "overlay",
              "size": 10,
              "solidity": 0.2
             }
            },
            "type": "histogram"
           }
          ],
          "histogram2d": [
           {
            "colorbar": {
             "outlinewidth": 0,
             "ticks": ""
            },
            "colorscale": [
             [
              0,
              "#0d0887"
             ],
             [
              0.1111111111111111,
              "#46039f"
             ],
             [
              0.2222222222222222,
              "#7201a8"
             ],
             [
              0.3333333333333333,
              "#9c179e"
             ],
             [
              0.4444444444444444,
              "#bd3786"
             ],
             [
              0.5555555555555556,
              "#d8576b"
             ],
             [
              0.6666666666666666,
              "#ed7953"
             ],
             [
              0.7777777777777778,
              "#fb9f3a"
             ],
             [
              0.8888888888888888,
              "#fdca26"
             ],
             [
              1,
              "#f0f921"
             ]
            ],
            "type": "histogram2d"
           }
          ],
          "histogram2dcontour": [
           {
            "colorbar": {
             "outlinewidth": 0,
             "ticks": ""
            },
            "colorscale": [
             [
              0,
              "#0d0887"
             ],
             [
              0.1111111111111111,
              "#46039f"
             ],
             [
              0.2222222222222222,
              "#7201a8"
             ],
             [
              0.3333333333333333,
              "#9c179e"
             ],
             [
              0.4444444444444444,
              "#bd3786"
             ],
             [
              0.5555555555555556,
              "#d8576b"
             ],
             [
              0.6666666666666666,
              "#ed7953"
             ],
             [
              0.7777777777777778,
              "#fb9f3a"
             ],
             [
              0.8888888888888888,
              "#fdca26"
             ],
             [
              1,
              "#f0f921"
             ]
            ],
            "type": "histogram2dcontour"
           }
          ],
          "mesh3d": [
           {
            "colorbar": {
             "outlinewidth": 0,
             "ticks": ""
            },
            "type": "mesh3d"
           }
          ],
          "parcoords": [
           {
            "line": {
             "colorbar": {
              "outlinewidth": 0,
              "ticks": ""
             }
            },
            "type": "parcoords"
           }
          ],
          "pie": [
           {
            "automargin": true,
            "type": "pie"
           }
          ],
          "scatter": [
           {
            "marker": {
             "colorbar": {
              "outlinewidth": 0,
              "ticks": ""
             }
            },
            "type": "scatter"
           }
          ],
          "scatter3d": [
           {
            "line": {
             "colorbar": {
              "outlinewidth": 0,
              "ticks": ""
             }
            },
            "marker": {
             "colorbar": {
              "outlinewidth": 0,
              "ticks": ""
             }
            },
            "type": "scatter3d"
           }
          ],
          "scattercarpet": [
           {
            "marker": {
             "colorbar": {
              "outlinewidth": 0,
              "ticks": ""
             }
            },
            "type": "scattercarpet"
           }
          ],
          "scattergeo": [
           {
            "marker": {
             "colorbar": {
              "outlinewidth": 0,
              "ticks": ""
             }
            },
            "type": "scattergeo"
           }
          ],
          "scattergl": [
           {
            "marker": {
             "colorbar": {
              "outlinewidth": 0,
              "ticks": ""
             }
            },
            "type": "scattergl"
           }
          ],
          "scattermapbox": [
           {
            "marker": {
             "colorbar": {
              "outlinewidth": 0,
              "ticks": ""
             }
            },
            "type": "scattermapbox"
           }
          ],
          "scatterpolar": [
           {
            "marker": {
             "colorbar": {
              "outlinewidth": 0,
              "ticks": ""
             }
            },
            "type": "scatterpolar"
           }
          ],
          "scatterpolargl": [
           {
            "marker": {
             "colorbar": {
              "outlinewidth": 0,
              "ticks": ""
             }
            },
            "type": "scatterpolargl"
           }
          ],
          "scatterternary": [
           {
            "marker": {
             "colorbar": {
              "outlinewidth": 0,
              "ticks": ""
             }
            },
            "type": "scatterternary"
           }
          ],
          "surface": [
           {
            "colorbar": {
             "outlinewidth": 0,
             "ticks": ""
            },
            "colorscale": [
             [
              0,
              "#0d0887"
             ],
             [
              0.1111111111111111,
              "#46039f"
             ],
             [
              0.2222222222222222,
              "#7201a8"
             ],
             [
              0.3333333333333333,
              "#9c179e"
             ],
             [
              0.4444444444444444,
              "#bd3786"
             ],
             [
              0.5555555555555556,
              "#d8576b"
             ],
             [
              0.6666666666666666,
              "#ed7953"
             ],
             [
              0.7777777777777778,
              "#fb9f3a"
             ],
             [
              0.8888888888888888,
              "#fdca26"
             ],
             [
              1,
              "#f0f921"
             ]
            ],
            "type": "surface"
           }
          ],
          "table": [
           {
            "cells": {
             "fill": {
              "color": "#EBF0F8"
             },
             "line": {
              "color": "white"
             }
            },
            "header": {
             "fill": {
              "color": "#C8D4E3"
             },
             "line": {
              "color": "white"
             }
            },
            "type": "table"
           }
          ]
         },
         "layout": {
          "annotationdefaults": {
           "arrowcolor": "#2a3f5f",
           "arrowhead": 0,
           "arrowwidth": 1
          },
          "autotypenumbers": "strict",
          "coloraxis": {
           "colorbar": {
            "outlinewidth": 0,
            "ticks": ""
           }
          },
          "colorscale": {
           "diverging": [
            [
             0,
             "#8e0152"
            ],
            [
             0.1,
             "#c51b7d"
            ],
            [
             0.2,
             "#de77ae"
            ],
            [
             0.3,
             "#f1b6da"
            ],
            [
             0.4,
             "#fde0ef"
            ],
            [
             0.5,
             "#f7f7f7"
            ],
            [
             0.6,
             "#e6f5d0"
            ],
            [
             0.7,
             "#b8e186"
            ],
            [
             0.8,
             "#7fbc41"
            ],
            [
             0.9,
             "#4d9221"
            ],
            [
             1,
             "#276419"
            ]
           ],
           "sequential": [
            [
             0,
             "#0d0887"
            ],
            [
             0.1111111111111111,
             "#46039f"
            ],
            [
             0.2222222222222222,
             "#7201a8"
            ],
            [
             0.3333333333333333,
             "#9c179e"
            ],
            [
             0.4444444444444444,
             "#bd3786"
            ],
            [
             0.5555555555555556,
             "#d8576b"
            ],
            [
             0.6666666666666666,
             "#ed7953"
            ],
            [
             0.7777777777777778,
             "#fb9f3a"
            ],
            [
             0.8888888888888888,
             "#fdca26"
            ],
            [
             1,
             "#f0f921"
            ]
           ],
           "sequentialminus": [
            [
             0,
             "#0d0887"
            ],
            [
             0.1111111111111111,
             "#46039f"
            ],
            [
             0.2222222222222222,
             "#7201a8"
            ],
            [
             0.3333333333333333,
             "#9c179e"
            ],
            [
             0.4444444444444444,
             "#bd3786"
            ],
            [
             0.5555555555555556,
             "#d8576b"
            ],
            [
             0.6666666666666666,
             "#ed7953"
            ],
            [
             0.7777777777777778,
             "#fb9f3a"
            ],
            [
             0.8888888888888888,
             "#fdca26"
            ],
            [
             1,
             "#f0f921"
            ]
           ]
          },
          "colorway": [
           "#636efa",
           "#EF553B",
           "#00cc96",
           "#ab63fa",
           "#FFA15A",
           "#19d3f3",
           "#FF6692",
           "#B6E880",
           "#FF97FF",
           "#FECB52"
          ],
          "font": {
           "color": "#2a3f5f"
          },
          "geo": {
           "bgcolor": "white",
           "lakecolor": "white",
           "landcolor": "#E5ECF6",
           "showlakes": true,
           "showland": true,
           "subunitcolor": "white"
          },
          "hoverlabel": {
           "align": "left"
          },
          "hovermode": "closest",
          "mapbox": {
           "style": "light"
          },
          "paper_bgcolor": "white",
          "plot_bgcolor": "#E5ECF6",
          "polar": {
           "angularaxis": {
            "gridcolor": "white",
            "linecolor": "white",
            "ticks": ""
           },
           "bgcolor": "#E5ECF6",
           "radialaxis": {
            "gridcolor": "white",
            "linecolor": "white",
            "ticks": ""
           }
          },
          "scene": {
           "xaxis": {
            "backgroundcolor": "#E5ECF6",
            "gridcolor": "white",
            "gridwidth": 2,
            "linecolor": "white",
            "showbackground": true,
            "ticks": "",
            "zerolinecolor": "white"
           },
           "yaxis": {
            "backgroundcolor": "#E5ECF6",
            "gridcolor": "white",
            "gridwidth": 2,
            "linecolor": "white",
            "showbackground": true,
            "ticks": "",
            "zerolinecolor": "white"
           },
           "zaxis": {
            "backgroundcolor": "#E5ECF6",
            "gridcolor": "white",
            "gridwidth": 2,
            "linecolor": "white",
            "showbackground": true,
            "ticks": "",
            "zerolinecolor": "white"
           }
          },
          "shapedefaults": {
           "line": {
            "color": "#2a3f5f"
           }
          },
          "ternary": {
           "aaxis": {
            "gridcolor": "white",
            "linecolor": "white",
            "ticks": ""
           },
           "baxis": {
            "gridcolor": "white",
            "linecolor": "white",
            "ticks": ""
           },
           "bgcolor": "#E5ECF6",
           "caxis": {
            "gridcolor": "white",
            "linecolor": "white",
            "ticks": ""
           }
          },
          "title": {
           "x": 0.05
          },
          "xaxis": {
           "automargin": true,
           "gridcolor": "white",
           "linecolor": "white",
           "ticks": "",
           "title": {
            "standoff": 15
           },
           "zerolinecolor": "white",
           "zerolinewidth": 2
          },
          "yaxis": {
           "automargin": true,
           "gridcolor": "white",
           "linecolor": "white",
           "ticks": "",
           "title": {
            "standoff": 15
           },
           "zerolinecolor": "white",
           "zerolinewidth": 2
          }
         }
        },
        "xaxis": {
         "anchor": "y",
         "autorange": true,
         "domain": [
          0,
          1
         ],
         "range": [
          1634262077.591374,
          1634262108.2294133
         ],
         "title": {
          "text": "timestamp"
         },
         "type": "linear"
        },
        "yaxis": {
         "anchor": "x",
         "autorange": true,
         "domain": [
          0,
          1
         ],
         "range": [
          1.727476377952756,
          1.8695236220472442
         ],
         "title": {
          "text": "V_ivp_1"
         },
         "type": "linear"
        }
       }
      },
      "image/png": "[encoded data removed]"
     },
     "metadata": {},
     "output_type": "display_data"
    }
   ],
   "source": [
    "px.scatter(data, x='timestamp', y='V_ivp_1')"
   ]
  },
  {
   "cell_type": "code",
   "execution_count": null,
   "id": "6d3e08c6-02c9-4216-80d9-4968f08b292b",
   "metadata": {},
   "outputs": [],
   "source": []
  }
 ],
 "metadata": {
  "kernelspec": {
   "display_name": "Python 3 (ipykernel)",
   "language": "python",
   "name": "python3"
  },
  "language_info": {
   "codemirror_mode": {
    "name": "ipython",
    "version": 3
   },
   "file_extension": ".py",
   "mimetype": "text/x-python",
   "name": "python",
   "nbconvert_exporter": "python",
   "pygments_lexer": "ipython3",
   "version": "3.7.0"
  }
 },
 "nbformat": 4,
 "nbformat_minor": 5
}
