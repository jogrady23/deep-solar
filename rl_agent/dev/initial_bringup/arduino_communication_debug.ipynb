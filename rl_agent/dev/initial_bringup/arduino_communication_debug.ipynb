{
 "cells": [
  {
   "cell_type": "code",
   "execution_count": 1,
   "id": "24354528-907b-4290-9464-3e505e4f90ac",
   "metadata": {},
   "outputs": [],
   "source": [
    "import serial\n",
    "import time"
   ]
  },
  {
   "cell_type": "code",
   "execution_count": 2,
   "id": "ee82fb84-fa55-450e-8013-639c57e100cb",
   "metadata": {},
   "outputs": [],
   "source": [
    "END_CHAR = '>'\n",
    "MESSAGE_TERMINATOR = '\\n'"
   ]
  },
  {
   "cell_type": "code",
   "execution_count": 3,
   "id": "4c204fcb-25e1-4fe7-8df2-0d9619d98a8f",
   "metadata": {},
   "outputs": [],
   "source": [
    "def read_serial_line(ser):\n",
    "    \"\"\"\n",
    "    Reads data from Serial (from Arduino)\n",
    "\n",
    "    Args:\n",
    "        ser(byte): Serial line from Arduino\n",
    "    Returns:\n",
    "        (str): The output of the line\n",
    "    \"\"\"\n",
    "    line = ser.readline()\n",
    "    line = line.decode(\"utf-8\")\n",
    "    data_line = line\n",
    "    line_output = data_line.strip()\n",
    "    return line_output"
   ]
  },
  {
   "cell_type": "code",
   "execution_count": 4,
   "id": "dc71bb01-ac9b-4c94-b993-1ea510210a7e",
   "metadata": {},
   "outputs": [],
   "source": [
    "def comm_with_board(arduino, code_array, timeout, print_stats=False):\n",
    "    message = ','.join([str(x) for x in code_array]) + END_CHAR + MESSAGE_TERMINATOR\n",
    "    \n",
    "    write_start = time.time()\n",
    "    arduino.write(str(message).encode())\n",
    "    while arduino.out_waiting > 0:\n",
    "        time.sleep(0.05)\n",
    "        print('writing...')\n",
    "    arduino.reset_output_buffer()\n",
    "    if print_stats:\n",
    "        print('write time:',time.time() - write_start)\n",
    "\n",
    "    read_start = time.time()\n",
    "    while arduino.in_waiting <= 0 and time.time() - read_start < timeout:\n",
    "        time.sleep(0.05)\n",
    "    arduino_response = arduino.readline().decode().strip().split(',')\n",
    "    arduino.reset_input_buffer()\n",
    "    if print_stats:\n",
    "        print('read time:',time.time() - read_start)\n",
    "        print(arduino_response)"
   ]
  },
  {
   "cell_type": "markdown",
   "id": "10224f76-c66a-4c16-8347-42af95772b21",
   "metadata": {},
   "source": [
    "Initialize Serial port"
   ]
  },
  {
   "cell_type": "code",
   "execution_count": 5,
   "id": "93f86af3-b7d4-495d-b400-bfd582440065",
   "metadata": {},
   "outputs": [],
   "source": [
    "# Initialize serial port\n",
    "serial_port = '/dev/cu.usbmodem14101'\n",
    "baud_rate = 9600\n",
    "arduino = serial.Serial(port=serial_port, baudrate=baud_rate, timeout=2)\n",
    "arduino.flush()\n",
    "time.sleep(2)"
   ]
  },
  {
   "cell_type": "markdown",
   "id": "ce6d389b-d8c6-443c-bc6d-a40f86e44d85",
   "metadata": {},
   "source": [
    "### Loop message testing"
   ]
  },
  {
   "cell_type": "code",
   "execution_count": 6,
   "id": "3f573872-add6-435c-ab41-05da1b15cf79",
   "metadata": {},
   "outputs": [],
   "source": [
    "code_array_sequence = [\n",
    "    [1000, 0, 180],\n",
    "    [1000, 30, 150],\n",
    "    [1000, 60, 120],\n",
    "    [1000, 90, 90],\n",
    "    [1000, 120, 60],\n",
    "    [1000, 150, 30],\n",
    "    [1000, 180, 0]\n",
    "]\n",
    "runtime = 20\n",
    "wait_time = 5\n",
    "print_stats = False"
   ]
  },
  {
   "cell_type": "code",
   "execution_count": 7,
   "id": "5012b495-f1b4-45c6-b265-90efa56b18cf",
   "metadata": {},
   "outputs": [
    {
     "name": "stdout",
     "output_type": "stream",
     "text": [
      "COMMENCING SEQUENCE IN 5 SECONDS...\n",
      "7.47105598449707\n",
      "14.920825958251953\n",
      "22.381567001342773\n",
      "SEQUENCE COMPLETE\n"
     ]
    }
   ],
   "source": [
    "print('COMMENCING SEQUENCE IN ' + str(wait_time) + ' SECONDS...')\n",
    "time.sleep(wait_time)\n",
    "start = time.time()\n",
    "while time.time() - start < runtime:\n",
    "    for codes in code_array_sequence:\n",
    "        comm_with_board(arduino, codes, timeout=3, print_stats=print_stats)\n",
    "    code_array_sequence.reverse()\n",
    "    for codes in code_array_sequence:\n",
    "        comm_with_board(arduino, codes, timeout=3, print_stats=print_stats)\n",
    "    code_array_sequence.reverse()\n",
    "    print(time.time() - start)\n",
    "print('SEQUENCE COMPLETE')"
   ]
  },
  {
   "cell_type": "markdown",
   "id": "1ded888c-d392-4e97-9aec-5d4c3e3037b2",
   "metadata": {
    "tags": []
   },
   "source": [
    "### Long message testing\n",
    "Improves response time of Arduino"
   ]
  },
  {
   "cell_type": "code",
   "execution_count": null,
   "id": "1db97ddc-35b4-45ad-a512-4c5cbe446bb4",
   "metadata": {},
   "outputs": [],
   "source": [
    "test_message = '1000,0,0' + END_CHAR + MESSAGE_TERMINATOR\n",
    "read_timeout = 4"
   ]
  },
  {
   "cell_type": "code",
   "execution_count": null,
   "id": "4a87c136-c7c9-4e6c-822c-946cf920943b",
   "metadata": {},
   "outputs": [],
   "source": [
    "write_start = time.time()\n",
    "arduino.write(str(test_message).encode())\n",
    "while arduino.out_waiting > 0:\n",
    "    time.sleep(0.05)\n",
    "    print('writing...')\n",
    "arduino.reset_output_buffer()\n",
    "print('write time:',time.time() - write_start)\n",
    "\n",
    "read_start = time.time()\n",
    "while arduino.in_waiting <= 0 and time.time() - read_start < read_timeout:\n",
    "    time.sleep(0.05)\n",
    "arduino_response = arduino.readline().decode().strip().split(',')\n",
    "arduino.reset_input_buffer()\n",
    "print('read time:',time.time() - read_start)\n",
    "print(arduino_response)"
   ]
  },
  {
   "cell_type": "code",
   "execution_count": null,
   "id": "b3824236-ff04-4b62-893e-cf8c4e37178a",
   "metadata": {},
   "outputs": [],
   "source": []
  }
 ],
 "metadata": {
  "kernelspec": {
   "display_name": "Python 3 (ipykernel)",
   "language": "python",
   "name": "python3"
  },
  "language_info": {
   "codemirror_mode": {
    "name": "ipython",
    "version": 3
   },
   "file_extension": ".py",
   "mimetype": "text/x-python",
   "name": "python",
   "nbconvert_exporter": "python",
   "pygments_lexer": "ipython3",
   "version": "3.7.0"
  }
 },
 "nbformat": 4,
 "nbformat_minor": 5
}
