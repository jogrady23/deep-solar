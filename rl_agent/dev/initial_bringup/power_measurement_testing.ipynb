{
 "cells": [
  {
   "cell_type": "code",
   "execution_count": 36,
   "id": "6e07939b-67d4-4c4b-9a2e-67201d36ab6a",
   "metadata": {},
   "outputs": [],
   "source": [
    "import serial\n",
    "import time\n",
    "import random\n",
    "import pandas as pd\n",
    "\n",
    "# Request codes\n",
    "MOTOR_CONTROL = 1000\n",
    "STATE_REQUEST = 2000\n",
    "RESET_CODE = 6666\n",
    "\n",
    "# Response codes\n",
    "NOMINAL = 1111\n",
    "ERROR = 9999\n",
    "\n",
    "# Constants for communication\n",
    "END_CHAR = '>'\n",
    "MESSAGE_TERMINATOR = '\\n'\n",
    "DELIMITER = ','\n",
    "\n",
    "\n",
    "def read_serial_line(serial_device: serial.Serial, print_message=True):\n",
    "    \"\"\"\n",
    "       Reads data from Serial (from Arduino) with a safe check for end char\n",
    "\n",
    "       Args:\n",
    "           serial_device (serial.Serial): The Serial device\n",
    "       Returns:\n",
    "           (str): The output of the line, or None if invalid message\n",
    "    \"\"\"\n",
    "    data_line = serial_device.readline().decode().strip()\n",
    "    if END_CHAR in data_line:\n",
    "        data_list = data_line.replace(END_CHAR, '').split(DELIMITER)\n",
    "    else:\n",
    "        data_list = None\n",
    "    if print_message:\n",
    "        print('Reading message: ' + str(data_list))\n",
    "    return data_list\n",
    "\n",
    "\n",
    "def write_serial_line(serial_device: serial.Serial, code_array, write_timeout=3, print_message=True):\n",
    "    \"\"\"\n",
    "    Args:\n",
    "        serial_device (serial.Serial): The Serial device\n",
    "        code_array (list): The sequence of codes/values to send to Arduino\n",
    "\n",
    "    Returns:\n",
    "        (bool): True for successful write, False for timeout\n",
    "\n",
    "    \"\"\"\n",
    "    message = ','.join([str(x) for x in code_array]) + END_CHAR + MESSAGE_TERMINATOR\n",
    "\n",
    "    # Track write time or timeout\n",
    "    write_success = True\n",
    "    write_start = time.time()\n",
    "    serial_device.write(str(message).encode())\n",
    "\n",
    "    # Attempt to write message\n",
    "    if print_message:\n",
    "        print('Writing serial message: ' + str(code_array))\n",
    "    while (serial_device.out_waiting > 0) and (time.time() - write_start < write_timeout):\n",
    "        time.sleep(0.05)\n",
    "    if (time.time() - write_start > write_timeout) and (serial_device.out_waiting > 0):\n",
    "        write_success = False\n",
    "\n",
    "    # Reset buffer\n",
    "    serial_device.reset_output_buffer()\n",
    "\n",
    "    return write_success\n",
    "\n",
    "\n",
    "def initialize_serial(serial_port='/dev/cu.usbmodem14101', baud_rate=9600, timeout=2):\n",
    "    serial_device = serial.Serial(port=serial_port, baudrate=baud_rate, timeout=timeout)\n",
    "    serial_device.flush()\n",
    "    time.sleep(2)\n",
    "    return serial_device\n",
    "\n",
    "\n",
    "def map_message_to_dict(timestamp, input_message):\n",
    "    final_dict = {}\n",
    "    if input_message is not None:\n",
    "        final_dict = {\n",
    "            'timestamp': timestamp,\n",
    "            'state': input_message[0],\n",
    "            'arduino_duration': input_message[1],\n",
    "            'motor_1_position': input_message[2],\n",
    "            'motor_2_position': input_message[3],\n",
    "            'I_ivp_1': input_message[4],\n",
    "            'V_ivp_1': input_message[5],\n",
    "            'P_ivp_1': input_message[6]\n",
    "        }\n",
    "    return final_dict\n",
    "\n",
    "\n",
    "def loop(arduino, runtime=12):\n",
    "    # Run start\n",
    "    run_start = time.time()\n",
    "    data_dict_list = []\n",
    "    last_motor_interval = 0\n",
    "    last_measure_interval = -1\n",
    "    motor_frequency = 2\n",
    "    measure_frequency = 1\n",
    "    # Set timeouts\n",
    "    response_timeout = 3\n",
    "    reset_timeout = 5\n",
    "    abort = False\n",
    "    expecting_response = False\n",
    "\n",
    "    # Check for new messages to log\n",
    "    while time.time() - run_start < runtime and not abort:\n",
    "        # if arduino.in_waiting > 0:\n",
    "        #    data_dict_list.append(map_message_to_dict(time.time(), read_serial_line(arduino, print_message=False)))\n",
    "\n",
    "        # Calculate intervals\n",
    "        motor_interval = round(time.time() - run_start)//motor_frequency\n",
    "        measure_interval = round(time.time() - run_start)//measure_frequency\n",
    "\n",
    "        # every N seconds adjust motor position randomly\n",
    "        if motor_interval != last_motor_interval:\n",
    "            motor_1_position = random.randint(0, 181)\n",
    "            motor_2_position = random.randint(0, 181)\n",
    "            write_serial_line(arduino, [MOTOR_CONTROL, motor_1_position, motor_2_position], print_message=False)\n",
    "            # print([1000, motor_1_position, motor_2_position])\n",
    "            last_motor_interval = motor_interval\n",
    "            expecting_response = True\n",
    "\n",
    "        # otherwise, request a measurement every N seconds\n",
    "        else:\n",
    "            if measure_interval != last_measure_interval:\n",
    "                write_serial_line(arduino, [STATE_REQUEST], print_message=False)\n",
    "                last_measure_interval = measure_interval\n",
    "                expecting_response = True\n",
    "\n",
    "        # Wait for response from arduino before proceeding\n",
    "        if expecting_response:\n",
    "            wait_start = time.time()\n",
    "            while arduino.in_waiting <= 0 and time.time() - wait_start < response_timeout:\n",
    "                time.sleep(0.001)\n",
    "            # Case for successful response\n",
    "            if arduino.in_waiting > 0:\n",
    "                data_dict_list.append(map_message_to_dict(time.time(), read_serial_line(arduino, print_message=False)))\n",
    "                expecting_response = False\n",
    "            # If no response, send a reset request\n",
    "            else:\n",
    "                print('WARNING: Arduino unresponsive, requesting reset...')\n",
    "                write_serial_line(arduino, [RESET_CODE])\n",
    "                # Verify the reset\n",
    "                wait_start = time.time()\n",
    "                while arduino.in_waiting <= 0 and time.time() - wait_start < reset_timeout:\n",
    "                    time.sleep(0.005)\n",
    "                if arduino.in_waiting > 0:\n",
    "                    print('SUCCESS: Arduino reset successfully.')\n",
    "                    data_dict_list.append(map_message_to_dict(time.time(), read_serial_line(arduino, print_message=False)))\n",
    "                else:\n",
    "                    print('FATAL ERROR: Arduino unresponsive to reset.')\n",
    "                    abort = True\n",
    "    if abort:\n",
    "        print('\\nABORTING TEST AND WRITING DATA')\n",
    "    # Reset at end\n",
    "    else:\n",
    "        write_serial_line(arduino, [RESET_CODE], print_message=False)\n",
    "\n",
    "    return pd.DataFrame(data_dict_list)"
   ]
  },
  {
   "cell_type": "code",
   "execution_count": 37,
   "id": "07994661-9e43-4372-b543-b2641c5cad29",
   "metadata": {},
   "outputs": [
    {
     "name": "stdout",
     "output_type": "stream",
     "text": [
      "\n",
      "ARDUINO CONTROL TESTING\n",
      "-------------------------\n",
      "\n",
      "Iniitalizing device...\n",
      "\t - SUCCESS: Device initialized.\n",
      "\n",
      "Beginning loop sequence...\n",
      "\t - Loop complete.\n",
      "\n",
      "Data broadcasted by Arduino:\n",
      "\n"
     ]
    }
   ],
   "source": [
    "if __name__ == '__main__':\n",
    "    print('\\nARDUINO CONTROL TESTING')\n",
    "    print('-------------------------')\n",
    "    # Initialize serial port\n",
    "    print('\\nIniitalizing device...')\n",
    "    serial_port = '/dev/cu.usbmodem14101'\n",
    "    baud_rate = 9600\n",
    "    timeout = 5\n",
    "    arduino = initialize_serial(serial_port=serial_port, baud_rate=baud_rate, timeout=timeout)\n",
    "    print('\\t - SUCCESS: Device initialized.')\n",
    "\n",
    "    # Run a loop where motor position incremented every 5 seconds, print out message\n",
    "    print('\\nBeginning loop sequence...')\n",
    "#     data = loop(arduino, runtime=15)\n",
    "    print('\\t - Loop complete.')\n",
    "\n",
    "    # Add relative time to returned data and print out\n",
    "#     data['t_relative'] = data['timestamp'] - data['timestamp'].iloc[0]\n",
    "    print('\\nData broadcasted by Arduino:\\n')"
   ]
  },
  {
   "cell_type": "code",
   "execution_count": 39,
   "id": "adaaf1f0-f065-4360-964c-e6a936e84e0c",
   "metadata": {},
   "outputs": [],
   "source": [
    "def demo_movement(arduino):\n",
    "    time.sleep(2)\n",
    "    write_serial_line(arduino, [1000, 90, 90])\n",
    "    time.sleep(2)\n",
    "    write_serial_line(arduino, [1000, 0, 135])\n",
    "    time.sleep(2)\n",
    "    write_serial_line(arduino, [1000, 45, 180])\n",
    "    time.sleep(2)\n",
    "    write_serial_line(arduino, [1000, 90, 30])\n",
    "    time.sleep(2)\n",
    "    write_serial_line(arduino, [1000, 135, 60])\n",
    "    time.sleep(2)\n",
    "    write_serial_line(arduino, [1000, 0, 30])\n",
    "    time.sleep(2)\n",
    "    write_serial_line(arduino, [1000, 60, 120])\n",
    "    time.sleep(2)\n",
    "    write_serial_line(arduino, [1000, 120, 45])\n",
    "    time.sleep(2)\n",
    "    write_serial_line(arduino, [1000, 90, 90])"
   ]
  },
  {
   "cell_type": "code",
   "execution_count": 40,
   "id": "a8b51c92-e2cb-4e77-9b9c-eb84ca199d46",
   "metadata": {},
   "outputs": [
    {
     "name": "stdout",
     "output_type": "stream",
     "text": [
      "Writing serial message: [1000, 90, 90]\n",
      "Writing serial message: [1000, 0, 135]\n",
      "Writing serial message: [1000, 45, 180]\n",
      "Writing serial message: [1000, 90, 30]\n",
      "Writing serial message: [1000, 135, 60]\n",
      "Writing serial message: [1000, 0, 30]\n",
      "Writing serial message: [1000, 60, 120]\n",
      "Writing serial message: [1000, 120, 45]\n",
      "Writing serial message: [1000, 90, 90]\n"
     ]
    }
   ],
   "source": [
    "demo_movement(arduino)"
   ]
  },
  {
   "cell_type": "code",
   "execution_count": 42,
   "id": "9af1b648-e1a8-4d7d-84ca-56d3c3b878eb",
   "metadata": {},
   "outputs": [
    {
     "name": "stdout",
     "output_type": "stream",
     "text": [
      "Writing serial message: [1000, 90, 90]\n"
     ]
    },
    {
     "data": {
      "text/plain": [
       "True"
      ]
     },
     "execution_count": 42,
     "metadata": {},
     "output_type": "execute_result"
    }
   ],
   "source": [
    "write_serial_line(arduino, [1000, 90, 90])"
   ]
  },
  {
   "cell_type": "code",
   "execution_count": 21,
   "id": "805709cd-25eb-43cc-8257-8cac75236970",
   "metadata": {},
   "outputs": [],
   "source": [
    "data = data[data.columns].astype(float)"
   ]
  },
  {
   "cell_type": "code",
   "execution_count": 23,
   "id": "3d8b6dc1-c3ad-463c-bdb7-f3b722eb554c",
   "metadata": {
    "tags": []
   },
   "outputs": [
    {
     "data": {
      "text/plain": [
       "<matplotlib.axes._subplots.AxesSubplot at 0x7fb40d71bc88>"
      ]
     },
     "execution_count": 23,
     "metadata": {},
     "output_type": "execute_result"
    },
    {
     "data": {
      "image/png": "[encoded data removed]",
      "text/plain": [
       "<Figure size 432x288 with 1 Axes>"
      ]
     },
     "metadata": {
      "needs_background": "light"
     },
     "output_type": "display_data"
    }
   ],
   "source": [
    "data.plot.scatter(x='t_relative', y='V_ivp_1')"
   ]
  },
  {
   "cell_type": "code",
   "execution_count": null,
   "id": "0a8d8b41-1cdc-4312-af8e-15e423ceee16",
   "metadata": {},
   "outputs": [],
   "source": []
  }
 ],
 "metadata": {
  "kernelspec": {
   "display_name": "Python 3 (ipykernel)",
   "language": "python",
   "name": "python3"
  },
  "language_info": {
   "codemirror_mode": {
    "name": "ipython",
    "version": 3
   },
   "file_extension": ".py",
   "mimetype": "text/x-python",
   "name": "python",
   "nbconvert_exporter": "python",
   "pygments_lexer": "ipython3",
   "version": "3.7.0"
  }
 },
 "nbformat": 4,
 "nbformat_minor": 5
}
